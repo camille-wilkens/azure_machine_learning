{
 "cells": [
  {
   "cell_type": "code",
   "execution_count": null,
   "metadata": {
    "gather": {
     "logged": 1598275788035
    }
   },
   "outputs": [],
   "source": [
    "from azureml.core import Workspace, Experiment\n",
    "\n",
    "ws = Workspace.from_config()\n",
    "exp = Experiment(workspace=ws, name=\"udacity-project\")\n",
    "\n",
    "print('Workspace name: ' + ws.name, \n",
    "      'Azure region: ' + ws.location, \n",
    "      'Subscription id: ' + ws.subscription_id, \n",
    "      'Resource group: ' + ws.resource_group, sep = '\\n')\n",
    "\n",
    "run = exp.start_logging()"
   ]
  },
  {
   "cell_type": "code",
   "execution_count": null,
   "metadata": {
    "gather": {
     "logged": 1598275788675
    },
    "jupyter": {
     "outputs_hidden": false,
     "source_hidden": false
    },
    "nteract": {
     "transient": {
      "deleting": false
     }
    }
   },
   "outputs": [],
   "source": [
    "from azureml.core.compute import ComputeTarget, AmlCompute\n",
    "\n",
    "cluster_name = \"Wilkens-Cluster\"\n",
    "\n",
    "# TODO: Create compute cluster\n",
    "# Use vm_size = \"Standard_D2_V2\" in your provisioning configuration.\n",
    "# max_nodes should be no greater than 4.\n",
    "\n",
    "### YOUR CODE HERE ###\n",
    "try:\n",
    "    compute_target = ComputeTarget(workspace=ws, name=cluster_name)\n",
    "\n",
    "except:\n",
    "    compute_config = AmlCompute.provisioning_configuration(vm_size='Standard_D2_V2', max_nodes=4)\n",
    "    \n",
    "    compute_target= ComputeTarget.create(ws,cluster_name,compute_config)\n",
    "    \n",
    "compute_target.wait_for_completion(show_output=True)\n",
    "\n"
   ]
  },
  {
   "cell_type": "code",
   "execution_count": null,
   "metadata": {
    "gather": {
     "logged": 1598275789986
    },
    "jupyter": {
     "outputs_hidden": false,
     "source_hidden": false
    },
    "nteract": {
     "transient": {
      "deleting": false
     }
    }
   },
   "outputs": [],
   "source": [
    "from azureml.widgets import RunDetails\n",
    "from azureml.train.sklearn import SKLearn\n",
    "from azureml.train.hyperdrive.run import PrimaryMetricGoal\n",
    "from azureml.train.hyperdrive.policy import BanditPolicy\n",
    "from azureml.train.hyperdrive.sampling import RandomParameterSampling\n",
    "from azureml.train.hyperdrive.runconfig import HyperDriveConfig\n",
    "from azureml.train.hyperdrive.parameter_expressions import choice, uniform\n",
    "from azureml.core import Environment, ScriptRunConfig\n",
    "import os\n",
    "\n",
    "# Specify parameter sampler\n",
    "### YOUR CODE HERE ###\n",
    "ps = RandomParameterSampling(\n",
    "    {\n",
    "\"--C\" : choice(0.5,1.0,1.5) ,     \n",
    "\"--max_iter\" : choice(50,100,150)\n",
    "}\n",
    ")  \n",
    "\n",
    "# Specify a Policy\n",
    "### YOUR CODE HERE ###\n",
    "policy = BanditPolicy(evaluation_interval=1, slack_factor=0.1)\n",
    "\n",
    "if \"training\" not in os.listdir():\n",
    "    os.mkdir(\"./training\")\n",
    "\n",
    "# Setup environment for your training run\n",
    "#https://docs.microsoft.com/en-us/azure/machine-learning/how-to-migrate-from-estimators-to-scriptrunconfig\n",
    "\n",
    "curated_env_name = 'AzureML-sklearn-0.24-ubuntu18.04-py37-cpu'\n",
    "train_env = Environment.get(workspace=ws, name=curated_env_name)\n",
    "\n",
    "#compute_target = ws.compute_targets['my-cluster']\n",
    "src = ScriptRunConfig(source_directory='.',\n",
    "                      script='train.py',\n",
    "                      compute_target=compute_target,\n",
    "                      environment=train_env)\n",
    "\n",
    "#sklearn_est = Environment.from_conda_specification(name='sklearn-env', file_path='conda_dependencies.yml')\n",
    "#sklearn_est = \n",
    "# Create a ScriptRunConfig Object to specify the configuration details of your training job\n",
    "### YOUR CODE HERE ###\n",
    "#src = ScriptRunConfig(source_directory=\".\",script='train.py',compute_target=cluster_name)\n",
    "\n",
    "# Create a HyperDriveConfig using the src object, hyperparameter sampler, and policy.\n",
    "### YOUR CODE HERE ###\n",
    "\n",
    "hyperdrive_config = HyperDriveConfig(\n",
    "        hyperparameter_sampling=ps,\n",
    "        primary_metric_name='accuracy',\n",
    "        run_config=src,\n",
    "        primary_metric_goal=PrimaryMetricGoal.MAXIMIZE,\n",
    "        max_total_runs = 2, \n",
    "        max_concurrent_runs = 4,\n",
    "        policy=policy)"
   ]
  },
  {
   "cell_type": "code",
   "execution_count": null,
   "metadata": {},
   "outputs": [],
   "source": [
    "# Submit your hyperdrive run to the experiment and show run details with the widget.\n",
    "\n",
    "### YOUR CODE HERE ###\n",
    "\n",
    "hyperdrive_run=exp.submit(hyperdrive_config)\n",
    "\n",
    "RunDetails(hyperdrive_run).show()\n",
    "\n",
    "#hyperdrive_run.get_status()\n",
    "hyperdrive_run.wait_for_completion(show_output=True)"
   ]
  },
  {
   "cell_type": "code",
   "execution_count": null,
   "metadata": {
    "gather": {
     "logged": 1598276310862
    },
    "jupyter": {
     "outputs_hidden": false,
     "source_hidden": false
    },
    "nteract": {
     "transient": {
      "deleting": false
     }
    }
   },
   "outputs": [],
   "source": [
    "import joblib\n",
    "# Get your best run and save the model from that run.\n",
    "\n",
    "### YOUR CODE HERE ###\n",
    "best_run = hyperdrive_run.get_best_run_by_primary_metric()\n",
    "best_run_metrics = best_run.get_metrics() \n",
    "##CW\n",
    "print(\"Best Run:\", best_run.id)\n",
    "print(\"\\n Accuracy:\", best_run_metrics['accuracy'])\n",
    "print(\"\\n File Name :\",best_run.get_file_names())\n",
    "#print(\"\\n best run details \", best_run.get_details())\n",
    "#print(\"\\n best run metrics :\",best_run_metrics)\n",
    "\n",
    "# Save Model\n",
    "\n",
    "model = best_run.register_model(model_name='hyperdrive_best', tags=best_run.best_run_metrics,model_path='outputs/model.joblib')"
   ]
  },
  {
   "cell_type": "code",
   "execution_count": null,
   "metadata": {},
   "outputs": [],
   "source": [
    "from azureml.data.dataset_factory import TabularDatasetFactory\n",
    "\n",
    "# Create TabularDataset using TabularDatasetFactory\n",
    "# Data is available at: \n",
    "# \"https://automlsamplenotebookdata.blob.core.windows.net/automl-sample-notebook-data/bankmarketing_train.csv\"\n",
    "\n",
    "### YOUR CODE HERE ###\n",
    "data_url  = \"https://automlsamplenotebookdata.blob.core.windows.net/automl-sample-notebook-data/bankmarketing_train.csv\"\n",
    "ds = TabularDatasetFactory.from_delimited_files(data_url)"
   ]
  },
  {
   "cell_type": "code",
   "execution_count": null,
   "metadata": {
    "gather": {
     "logged": 1598275726969
    },
    "jupyter": {
     "outputs_hidden": false,
     "source_hidden": false
    },
    "nteract": {
     "transient": {
      "deleting": false
     }
    }
   },
   "outputs": [],
   "source": [
    "from train import clean_data\n",
    "from sklearn.model_selection import train_test_split\n",
    "import pandas as pd\n",
    "\n",
    "\n",
    "# Use the clean_data function to clean your data.\n",
    "x, y = clean_data(ds)\n",
    "\n",
    "x_train, x_test, y_train, y_test = train_test_split(x,y,test_size = .20, random_state = 10)\n",
    "train_x_y = pd.concat([x_train,y_train], axis=1)"
   ]
  },
  {
   "cell_type": "code",
   "execution_count": null,
   "metadata": {
    "gather": {
     "logged": 1598275665403
    },
    "jupyter": {
     "outputs_hidden": false,
     "source_hidden": false
    },
    "nteract": {
     "transient": {
      "deleting": false
     }
    }
   },
   "outputs": [],
   "source": [
    "from azureml.train.automl import AutoMLConfig\n",
    "\n",
    "# Set parameters for AutoMLConfig\n",
    "# NOTE: DO NOT CHANGE THE experiment_timeout_minutes PARAMETER OR YOUR INSTANCE WILL TIME OUT.\n",
    "# If you wish to run the experiment longer, you will need to run this notebook in your own\n",
    "# Azure tenant, which will incur personal costs.\n",
    "automl_config = AutoMLConfig(\n",
    "    experiment_timeout_minutes=30,\n",
    "    task='classification',\n",
    "    primary_metric='accuracy',\n",
    "    training_data=train_x_y,\n",
    "    label_column_name='y',\n",
    "    enable_onnx_compatible_models=True,\n",
    "    n_cross_validations=2)\n",
    "\n"
   ]
  },
  {
   "cell_type": "code",
   "execution_count": 2,
   "metadata": {
    "jupyter": {
     "outputs_hidden": false,
     "source_hidden": false
    },
    "nteract": {
     "transient": {
      "deleting": false
     }
    }
   },
   "outputs": [],
   "source": [
    "# Submit your automl run\n",
    "\n",
    "### YOUR CODE HERE ###\n",
    "automl_run = exp.submit(config= automl_config, show_output= True)"
   ]
  },
  {
   "cell_type": "code",
   "execution_count": null,
   "metadata": {},
   "outputs": [],
   "source": [
    "# Retrieve and save your best automl model.\n",
    "from azureml.automl.runtime.onnx_convert import OnnxConverter\n",
    "### YOUR CODE HERE ###\n",
    "best_run, best_model = automl_run.get_output(return_onnx_model=True)\n",
    "\n",
    "#Save using Onnx converter\n",
    "OnnxConverter.save_onnx_model(best_model, './outputs/best_model.onnx')\n",
    "\n",
    "print(best_model, 'steps')\n",
    "print(\"\\n\")\n",
    "print(best_run.get_metrics())\n",
    "\n"
   ]
  },
  {
   "cell_type": "code",
   "execution_count": null,
   "metadata": {},
   "outputs": [],
   "source": [
    "#Delete Model\n",
    "compute_target.delete()\n"
   ]
  }
 ],
 "metadata": {
  "kernel_info": {
   "name": "python3-azureml"
  },
  "kernelspec": {
   "display_name": "Python 3",
   "language": "python",
   "name": "python3"
  },
  "language_info": {
   "codemirror_mode": {
    "name": "ipython",
    "version": 3
   },
   "file_extension": ".py",
   "mimetype": "text/x-python",
   "name": "python",
   "nbconvert_exporter": "python",
   "pygments_lexer": "ipython3",
   "version": "3.6.3"
  },
  "nteract": {
   "version": "nteract-front-end@1.0.0"
  }
 },
 "nbformat": 4,
 "nbformat_minor": 2
}
